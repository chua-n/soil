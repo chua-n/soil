{
 "cells": [
  {
   "cell_type": "code",
   "execution_count": 1,
   "metadata": {},
   "outputs": [],
   "source": [
    "from tqdm import trange\n",
    "import numpy as np\n",
    "\n",
    "from particle.pipeline import Sand\n",
    "from mayavi import mlab"
   ]
  },
  {
   "cell_type": "code",
   "execution_count": 2,
   "metadata": {},
   "outputs": [],
   "source": [
    "raw = np.load('data/train_set.npy')\n",
    "vae = np.load('output/geometry/generated_particles/vae.npy')\n",
    "gan = np.load('output/geometry/generated_particles/gan.npy')"
   ]
  },
  {
   "cell_type": "code",
   "execution_count": 3,
   "metadata": {},
   "outputs": [],
   "source": [
    "threshold = 0.5\n",
    "\n",
    "vae[vae <= threshold] = 0\n",
    "vae[vae > threshold] = 1\n",
    "\n",
    "gan[gan <= threshold] = 0\n",
    "gan[gan > threshold] = 1"
   ]
  },
  {
   "cell_type": "markdown",
   "metadata": {},
   "source": [
    "## 颗粒几何特征\n",
    "- volume\n",
    "- surface\n",
    "- radius\n",
    "- sphericity\n",
    "- EI, FI\n",
    "- convexity\n",
    "- angularity\n",
    "- roughness"
   ]
  },
  {
   "cell_type": "markdown",
   "metadata": {},
   "source": [
    "## 计算优化\n",
    "\n",
    "- 使用多进程进行以下三步的计算"
   ]
  },
  {
   "cell_type": "code",
   "execution_count": 4,
   "metadata": {},
   "outputs": [
    {
     "name": "stderr",
     "output_type": "stream",
     "text": [
      " 40%|████      | 3613/9000 [09:10<15:25,  5.82it/s]"
     ]
    },
    {
     "name": "stdout",
     "output_type": "stream",
     "text": [
      "3611\n"
     ]
    },
    {
     "name": "stderr",
     "output_type": "stream",
     "text": [
      " 90%|█████████ | 8141/9000 [24:06<04:34,  3.13it/s]"
     ]
    },
    {
     "name": "stdout",
     "output_type": "stream",
     "text": [
      "8141\n"
     ]
    },
    {
     "name": "stderr",
     "output_type": "stream",
     "text": [
      "100%|██████████| 9000/9000 [27:40<00:00,  5.42it/s]\n"
     ]
    }
   ],
   "source": [
    "## for raw\n",
    "\n",
    "volume = np.empty(len(raw), dtype=np.float32)\n",
    "surface = np.empty(len(raw), dtype=np.float32)\n",
    "radius = np.empty(len(raw), dtype=np.float32)\n",
    "sphericity = np.empty(len(raw), dtype=np.float32)\n",
    "EI = np.empty(len(raw), dtype=np.float32)\n",
    "FI = np.empty(len(raw), dtype=np.float32)\n",
    "convexity = np.empty(len(raw), dtype=np.float32)\n",
    "angularity = np.empty(len(raw), dtype=np.float32)\n",
    "roughness = np.empty(len(raw), dtype=np.float32)\n",
    "\n",
    "error = []\n",
    "\n",
    "for i in trange(len(raw)):\n",
    "    try:\n",
    "        cube = raw[i, 0]\n",
    "        sand = Sand(cube)\n",
    "        volume[i] = np.sum(cube == 1)\n",
    "        surface[i] = sand.surf_area()\n",
    "        radius[i] = sand.circumscribed_sphere()[0]\n",
    "        sphericity[i] = sand.sphericity()\n",
    "        EI[i], FI[i] = sand.EI_FI()\n",
    "        convexity[i] = sand.convexity()\n",
    "        angularity[i] = sand.angularity()\n",
    "        roughness[i] = sand.roughness()\n",
    "    except:\n",
    "        # gan[1708, 0] is special\n",
    "        print(i)\n",
    "        error.append(i)\n",
    "        continue\n",
    "        \n",
    "mask = np.ones(len(raw), dtype=np.bool)\n",
    "mask[error] = False\n",
    "np.savez('output/raw.npz',\n",
    "         volume=volume[mask],\n",
    "         surface=surface[mask],\n",
    "         radius=radius[mask],\n",
    "         sphericity=sphericity[mask],\n",
    "         EI=EI[mask], FI=FI[mask],\n",
    "         convexity=convexity[mask],\n",
    "         angularity=angularity[mask],\n",
    "         roughness=roughness[mask],\n",
    "         mask=mask)"
   ]
  },
  {
   "cell_type": "code",
   "execution_count": 4,
   "metadata": {},
   "outputs": [
    {
     "name": "stderr",
     "output_type": "stream",
     "text": [
      " 45%|████▌     | 1355/3000 [04:31<02:33, 10.73it/s]"
     ]
    },
    {
     "name": "stdout",
     "output_type": "stream",
     "text": [
      "1354\n"
     ]
    },
    {
     "name": "stderr",
     "output_type": "stream",
     "text": [
      "100%|██████████| 3000/3000 [10:00<00:00,  4.99it/s]\n"
     ]
    }
   ],
   "source": [
    "## for vae\n",
    "\n",
    "volume = np.empty(len(vae), dtype=np.float32)\n",
    "surface = np.empty(len(vae), dtype=np.float32)\n",
    "radius = np.empty(len(vae), dtype=np.float32)\n",
    "sphericity = np.empty(len(vae), dtype=np.float32)\n",
    "EI = np.empty(len(vae), dtype=np.float32)\n",
    "FI = np.empty(len(vae), dtype=np.float32)\n",
    "convexity = np.empty(len(vae), dtype=np.float32)\n",
    "angularity = np.empty(len(vae), dtype=np.float32)\n",
    "roughness = np.empty(len(raw), dtype=np.float32)\n",
    "\n",
    "error = []\n",
    "for i in trange(len(vae)):\n",
    "    try:\n",
    "        cube = vae[i, 0]\n",
    "        sand = Sand(cube)\n",
    "        volume[i] = np.sum(cube == 1)\n",
    "        surface[i] = sand.surf_area()\n",
    "        radius[i] = sand.circumscribed_sphere()[0]\n",
    "        sphericity[i] = sand.sphericity()\n",
    "        EI[i], FI[i] = sand.EI_FI()\n",
    "        convexity[i] = sand.convexity()\n",
    "        angularity[i] = sand.angularity()\n",
    "        roughness[i] = sand.roughness()\n",
    "    except:\n",
    "        # gan[1740, 0] is sperical\n",
    "        print(i)\n",
    "        error.append(i)\n",
    "        continue\n",
    "        \n",
    "mask = np.ones(len(vae), dtype=np.bool)\n",
    "mask[error] = False\n",
    "np.savez('output/vae.npz',\n",
    "         volume=volume[mask],\n",
    "         surface=surface[mask],\n",
    "         radius=radius[mask],\n",
    "         sphericity=sphericity[mask],\n",
    "         EI=EI[mask], FI=FI[mask],\n",
    "         convexity=convexity[mask],\n",
    "         angularity=angularity[mask],\n",
    "         roughness=roughness[mask],\n",
    "         mask=mask)"
   ]
  },
  {
   "cell_type": "code",
   "execution_count": 4,
   "metadata": {
    "scrolled": true
   },
   "outputs": [
    {
     "name": "stderr",
     "output_type": "stream",
     "text": [
      " 38%|███▊      | 1142/3000 [03:43<04:16,  7.25it/s]"
     ]
    },
    {
     "name": "stdout",
     "output_type": "stream",
     "text": [
      "1139\n"
     ]
    },
    {
     "name": "stderr",
     "output_type": "stream",
     "text": [
      " 72%|███████▏  | 2156/3000 [07:06<01:18, 10.70it/s]"
     ]
    },
    {
     "name": "stdout",
     "output_type": "stream",
     "text": [
      "2154\n"
     ]
    },
    {
     "name": "stderr",
     "output_type": "stream",
     "text": [
      "100%|██████████| 3000/3000 [09:42<00:00,  5.15it/s]\n"
     ]
    }
   ],
   "source": [
    "## for gan\n",
    "\n",
    "volume = np.empty(len(gan), dtype=np.float32)\n",
    "surface = np.empty(len(gan), dtype=np.float32)\n",
    "radius = np.empty(len(gan), dtype=np.float32)\n",
    "sphericity = np.empty(len(gan), dtype=np.float32)\n",
    "EI = np.empty(len(gan), dtype=np.float32)\n",
    "FI = np.empty(len(gan), dtype=np.float32)\n",
    "convexity = np.empty(len(gan), dtype=np.float32)\n",
    "angularity = np.empty(len(gan), dtype=np.float32)\n",
    "roughness = np.empty(len(raw), dtype=np.float32)\n",
    "\n",
    "error = []\n",
    "for i in trange(len(gan)):\n",
    "    try:\n",
    "        cube = gan[i, 0]\n",
    "        sand = Sand(cube)\n",
    "        volume[i] = np.sum(cube == 1)\n",
    "        surface[i] = sand.surf_area()\n",
    "        radius[i] = sand.circumscribed_sphere()[0]\n",
    "        sphericity[i] = sand.sphericity()\n",
    "        EI[i], FI[i] = sand.EI_FI()\n",
    "        convexity[i] = sand.convexity()\n",
    "        angularity[i] = sand.angularity()\n",
    "        roughness[i] = sand.roughness()\n",
    "    except:\n",
    "        # gan[1336, 0], gan[1850, 0] is special\n",
    "        print(i)\n",
    "        error.append(i)\n",
    "        continue\n",
    "        \n",
    "mask = np.ones(len(gan), dtype=np.bool)\n",
    "mask[error] = False\n",
    "np.savez('output/gan.npz',\n",
    "         volume=volume[mask],\n",
    "         surface=surface[mask],\n",
    "         radius=radius[mask],\n",
    "         sphericity=sphericity[mask],\n",
    "         EI=EI[mask], FI=FI[mask],\n",
    "         convexity=convexity[mask],\n",
    "         angularity=angularity[mask],\n",
    "         roughness=roughness[mask],\n",
    "         mask=mask)"
   ]
  },
  {
   "cell_type": "code",
   "execution_count": null,
   "metadata": {},
   "outputs": [],
   "source": []
  }
 ],
 "metadata": {
  "kernelspec": {
   "display_name": "Python 3",
   "language": "python",
   "name": "python3"
  },
  "language_info": {
   "codemirror_mode": {
    "name": "ipython",
    "version": 3
   },
   "file_extension": ".py",
   "mimetype": "text/x-python",
   "name": "python",
   "nbconvert_exporter": "python",
   "pygments_lexer": "ipython3",
   "version": "3.7.9"
  }
 },
 "nbformat": 4,
 "nbformat_minor": 4
}
