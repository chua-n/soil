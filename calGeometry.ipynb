{
 "cells": [
  {
   "cell_type": "code",
   "execution_count": 1,
   "metadata": {},
   "outputs": [],
   "source": [
    "from multiprocessing import Process, Pool\n",
    "from tqdm import trange\n",
    "import numpy as np\n",
    "\n",
    "from particle.pipeline import Sand\n",
    "\n",
    "from numpy.linalg.linalg import LinAlgError"
   ]
  },
  {
   "cell_type": "code",
   "execution_count": 2,
   "metadata": {},
   "outputs": [],
   "source": [
    "trainSet = np.load('data/liutao/v1/particles.npz')['trainSet']\n",
    "testSet = np.load('data/liutao/v1/particles.npz')['testSet']"
   ]
  },
  {
   "cell_type": "markdown",
   "metadata": {},
   "source": [
    "## 颗粒几何特征\n",
    "- volume\n",
    "- surface\n",
    "- radius\n",
    "- sphericity\n",
    "- EI, FI\n",
    "- convexity\n",
    "- angularity\n",
    "- roughness"
   ]
  },
  {
   "cell_type": "code",
   "execution_count": 3,
   "metadata": {},
   "outputs": [],
   "source": [
    "def cal(particles, name, error):\n",
    "    threshold = 0.5\n",
    "    particles[particles <= threshold] = 0\n",
    "    particles[particles > threshold] = 1\n",
    "    \n",
    "    volume = np.empty(len(particles), dtype=np.float32)\n",
    "    surface = np.empty(len(particles), dtype=np.float32)\n",
    "    radius = np.empty(len(particles), dtype=np.float32)\n",
    "    sphericity = np.empty(len(particles), dtype=np.float32)\n",
    "    EI = np.empty(len(particles), dtype=np.float32)\n",
    "    FI = np.empty(len(particles), dtype=np.float32)\n",
    "    convexity = np.empty(len(particles), dtype=np.float32)\n",
    "    angularity = np.empty(len(particles), dtype=np.float32)\n",
    "    roughness = np.empty(len(particles), dtype=np.float32)\n",
    "\n",
    "    for i in trange(len(particles)):\n",
    "        try:\n",
    "            cube = particles[i, 0]\n",
    "            sand = Sand(cube)\n",
    "            volume[i] = np.sum(cube == 1)\n",
    "            surface[i] = sand.surf_area()\n",
    "            radius[i] = sand.circumscribed_sphere()[0]\n",
    "            sphericity[i] = sand.sphericity()\n",
    "            EI[i], FI[i] = sand.EI_FI()\n",
    "            convexity[i] = sand.convexity()\n",
    "            angularity[i] = sand.angularity()\n",
    "            roughness[i] = sand.roughness()\n",
    "        except (RuntimeError, LinAlgError):\n",
    "            error.append(i)\n",
    "            continue\n",
    "\n",
    "    mask = np.ones(len(particles), dtype=bool)\n",
    "    mask[error] = False\n",
    "    np.savez(f'output/{name}.npz',\n",
    "             volume=volume[mask],\n",
    "             surface=surface[mask],\n",
    "             radius=radius[mask],\n",
    "             sphericity=sphericity[mask],\n",
    "             EI=EI[mask], FI=FI[mask],\n",
    "             convexity=convexity[mask],\n",
    "             angularity=angularity[mask],\n",
    "             roughness=roughness[mask],\n",
    "             mask=mask)\n",
    "    return error"
   ]
  },
  {
   "cell_type": "code",
   "execution_count": 4,
   "metadata": {},
   "outputs": [],
   "source": [
    "errorTrain = []\n",
    "errorTest = []"
   ]
  },
  {
   "cell_type": "code",
   "execution_count": 5,
   "metadata": {},
   "outputs": [],
   "source": [
    "pTrain = Process(target=cal, args=(trainSet, 'trainSet', errorTrain))\n",
    "pTest = Process(target=cal, args=(testSet, 'testSet', errorTest))"
   ]
  },
  {
   "cell_type": "code",
   "execution_count": 6,
   "metadata": {},
   "outputs": [
    {
     "name": "stderr",
     "output_type": "stream",
     "text": [
      "100%|██████████| 27143/27143 [2:02:30<00:00,  3.69it/s]  \n",
      "/opt/miniconda3/envs/PyTorch/lib/python3.7/site-packages/ipykernel_launcher.py:32: DeprecationWarning: `np.bool` is a deprecated alias for the builtin `bool`. To silence this warning, use `bool` by itself. Doing this will not modify any behavior and is safe. If you specifically wanted the numpy scalar type, use `np.bool_` here.\n",
      "Deprecated in NumPy 1.20; for more details and guidance: https://numpy.org/devdocs/release/1.20.0-notes.html#deprecations\n"
     ]
    }
   ],
   "source": [
    "pTrain.start()"
   ]
  },
  {
   "cell_type": "code",
   "execution_count": 7,
   "metadata": {},
   "outputs": [
    {
     "name": "stderr",
     "output_type": "stream",
     "text": [
      "100%|██████████| 6786/6786 [36:30<00:00,  3.10it/s]  \n",
      "/opt/miniconda3/envs/PyTorch/lib/python3.7/site-packages/ipykernel_launcher.py:32: DeprecationWarning: `np.bool` is a deprecated alias for the builtin `bool`. To silence this warning, use `bool` by itself. Doing this will not modify any behavior and is safe. If you specifically wanted the numpy scalar type, use `np.bool_` here.\n",
      "Deprecated in NumPy 1.20; for more details and guidance: https://numpy.org/devdocs/release/1.20.0-notes.html#deprecations\n"
     ]
    }
   ],
   "source": [
    "pTest.start()"
   ]
  },
  {
   "cell_type": "code",
   "execution_count": 8,
   "metadata": {},
   "outputs": [
    {
     "name": "stdout",
     "output_type": "stream",
     "text": [
      "testSet has been finished...\n",
      "trainSet has been finished...\n"
     ]
    }
   ],
   "source": [
    "pTest.join()\n",
    "print(\"testSet has been finished...\")\n",
    "pTrain.join()\n",
    "print(\"trainSet has been finished...\")"
   ]
  },
  {
   "cell_type": "code",
   "execution_count": 9,
   "metadata": {},
   "outputs": [
    {
     "name": "stdout",
     "output_type": "stream",
     "text": [
      "0 0\n"
     ]
    }
   ],
   "source": [
    "print(len(errorTrain), len(errorTest))"
   ]
  },
  {
   "cell_type": "code",
   "execution_count": 10,
   "metadata": {},
   "outputs": [
    {
     "data": {
      "text/plain": [
       "[]"
      ]
     },
     "execution_count": 10,
     "metadata": {},
     "output_type": "execute_result"
    }
   ],
   "source": [
    "errorTrain"
   ]
  },
  {
   "cell_type": "code",
   "execution_count": 11,
   "metadata": {},
   "outputs": [
    {
     "data": {
      "text/plain": [
       "False"
      ]
     },
     "execution_count": 11,
     "metadata": {},
     "output_type": "execute_result"
    }
   ],
   "source": [
    "pTrain.is_alive()"
   ]
  },
  {
   "cell_type": "code",
   "execution_count": null,
   "metadata": {},
   "outputs": [],
   "source": []
  }
 ],
 "metadata": {
  "kernelspec": {
   "display_name": "Python 3",
   "language": "python",
   "name": "python3"
  },
  "language_info": {
   "codemirror_mode": {
    "name": "ipython",
    "version": 3
   },
   "file_extension": ".py",
   "mimetype": "text/x-python",
   "name": "python",
   "nbconvert_exporter": "python",
   "pygments_lexer": "ipython3",
   "version": "3.7.9"
  }
 },
 "nbformat": 4,
 "nbformat_minor": 4
}
