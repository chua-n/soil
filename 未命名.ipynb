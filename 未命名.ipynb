{
 "cells": [
  {
   "cell_type": "code",
   "execution_count": 1,
   "metadata": {},
   "outputs": [
    {
     "name": "stdout",
     "output_type": "stream",
     "text": [
      "Set mlab.options.offscreen=True\n",
      "Notebook initialized with ipy backend.\n"
     ]
    }
   ],
   "source": [
    "import numpy as np\n",
    "import matplotlib.pyplot as plt\n",
    "from particle.mayaviOffScreen import mlab\n",
    "from particle.pipeline import Sand\n",
    "mlab.init_notebook()"
   ]
  },
  {
   "cell_type": "code",
   "execution_count": 2,
   "metadata": {},
   "outputs": [
    {
     "name": "stdout",
     "output_type": "stream",
     "text": [
      "(6786, 1, 64, 64, 64) 255\n"
     ]
    }
   ],
   "source": [
    "data = np.load(\"data/liutao/v1/particles.npz\")[\"testSet\"]\n",
    "print(data.shape, data.max())"
   ]
  },
  {
   "cell_type": "code",
   "execution_count": 3,
   "metadata": {
    "scrolled": false
   },
   "outputs": [
    {
     "data": {
      "application/vnd.jupyter.widget-view+json": {
       "model_id": "0983b9202c904a3ebea56badb33fd3b5",
       "version_major": 2,
       "version_minor": 0
      },
      "text/plain": [
       "Image(value=b'\\x89PNG\\r\\n\\x1a\\n\\x00\\x00\\x00\\rIHDR\\x00\\x00\\x01\\x90\\x00\\x00\\x01^\\x08\\x02\\x00\\x00\\x00$?\\xde_\\x00\\…"
      ]
     },
     "metadata": {},
     "output_type": "display_data"
    }
   ],
   "source": [
    "sand = Sand(data[0,0])\n",
    "sand.visualize()"
   ]
  },
  {
   "cell_type": "code",
   "execution_count": 4,
   "metadata": {},
   "outputs": [
    {
     "data": {
      "text/plain": [
       "(array([37.57261385, 17.31241208, 12.2242338 ]),\n",
       " array([[ 0.73605909, -0.66693909, -0.11579841],\n",
       "        [-0.64493442, -0.63898306, -0.4192377 ],\n",
       "        [-0.20561279, -0.3832661 ,  0.90046126]]))"
      ]
     },
     "execution_count": 4,
     "metadata": {},
     "output_type": "execute_result"
    }
   ],
   "source": [
    "coords = sand.toCoords().T\n",
    "sand.pca()"
   ]
  },
  {
   "cell_type": "code",
   "execution_count": 5,
   "metadata": {},
   "outputs": [
    {
     "data": {
      "text/plain": [
       "(array([37.57261385, 17.31241208, 12.2242338 ]),\n",
       " array([[ 0.73605909, -0.64493442, -0.20561279],\n",
       "        [-0.66693909, -0.63898306, -0.3832661 ],\n",
       "        [-0.11579841, -0.4192377 ,  0.90046126]]))"
      ]
     },
     "execution_count": 5,
     "metadata": {},
     "output_type": "execute_result"
    }
   ],
   "source": [
    "covarMatrix = np.cov(sand.toCoords().T)\n",
    "# np.linalg.eig(square_array) 返回输入方阵的特征值和右特征向量\n",
    "eigenvalues, eigenvectors = np.linalg.eig(covarMatrix)\n",
    "order = np.argsort(eigenvalues)\n",
    "eigenvalues, eigenvectors"
   ]
  },
  {
   "cell_type": "code",
   "execution_count": 6,
   "metadata": {},
   "outputs": [
    {
     "data": {
      "text/plain": [
       "(array([[-0.73605909,  0.66693909,  0.11579841],\n",
       "        [ 0.64493442,  0.63898306,  0.4192377 ],\n",
       "        [-0.20561279, -0.3832661 ,  0.90046126]]),\n",
       " array([37.57261385, 17.31241208, 12.2242338 ]))"
      ]
     },
     "execution_count": 6,
     "metadata": {},
     "output_type": "execute_result"
    }
   ],
   "source": [
    "from sklearn.decomposition import PCA\n",
    "pcaModel = PCA(n_components=3).fit(coords.T)\n",
    "newPoints = pcaModel.transform(coords.T)\n",
    "pcaModel.components_, pcaModel.explained_variance_"
   ]
  },
  {
   "cell_type": "code",
   "execution_count": 7,
   "metadata": {},
   "outputs": [
    {
     "data": {
      "application/vnd.jupyter.widget-view+json": {
       "model_id": "598b8e552bb746dc93cfb0f734e42471",
       "version_major": 2,
       "version_minor": 0
      },
      "text/plain": [
       "Image(value=b'\\x89PNG\\r\\n\\x1a\\n\\x00\\x00\\x00\\rIHDR\\x00\\x00\\x01\\x90\\x00\\x00\\x01^\\x08\\x02\\x00\\x00\\x00$?\\xde_\\x00\\…"
      ]
     },
     "metadata": {},
     "output_type": "display_data"
    }
   ],
   "source": [
    "sand.visualize(sand.poseNormalization())"
   ]
  },
  {
   "cell_type": "code",
   "execution_count": 8,
   "metadata": {},
   "outputs": [
    {
     "data": {
      "text/plain": [
       "True"
      ]
     },
     "execution_count": 8,
     "metadata": {},
     "output_type": "execute_result"
    }
   ],
   "source": [
    "(np.dot(coords.T-coords.T.mean(axis=0), pcaModel.components_.T) == newPoints).all()"
   ]
  },
  {
   "cell_type": "code",
   "execution_count": 9,
   "metadata": {},
   "outputs": [
    {
     "data": {
      "text/plain": [
       "(3371, 3)"
      ]
     },
     "execution_count": 9,
     "metadata": {},
     "output_type": "execute_result"
    }
   ],
   "source": [
    "newPoints.shape"
   ]
  },
  {
   "cell_type": "code",
   "execution_count": 10,
   "metadata": {},
   "outputs": [],
   "source": [
    "newPoints += 32"
   ]
  },
  {
   "cell_type": "code",
   "execution_count": 11,
   "metadata": {},
   "outputs": [
    {
     "data": {
      "application/vnd.jupyter.widget-view+json": {
       "model_id": "c746e71bf6a749a78ce2308253f55f09",
       "version_major": 2,
       "version_minor": 0
      },
      "text/plain": [
       "Image(value=b'\\x89PNG\\r\\n\\x1a\\n\\x00\\x00\\x00\\rIHDR\\x00\\x00\\x01\\x90\\x00\\x00\\x01^\\x08\\x02\\x00\\x00\\x00$?\\xde_\\x00\\…"
      ]
     },
     "metadata": {},
     "output_type": "display_data"
    }
   ],
   "source": [
    "from scipy.interpolate import griddata\n",
    "pointGrid = np.zeros((64, 64, 64), dtype=np.uint8)\n",
    "pointGridTmp = np.where(pointGrid == 0)\n",
    "pointGridTmp = np.asarray(pointGridTmp).T\n",
    "grid = griddata(newPoints, np.ones(len(newPoints)), pointGridTmp, method=\"linear\", fill_value=0)\n",
    "pointGrid[pointGridTmp[:, 0], pointGridTmp[:, 1], pointGridTmp[:, 2]] = grid\n",
    "sand.visualize(pointGrid)"
   ]
  },
  {
   "cell_type": "code",
   "execution_count": 13,
   "metadata": {},
   "outputs": [
    {
     "data": {
      "text/plain": [
       "array([0.04667841, 1.70315518, 0.31158237])"
      ]
     },
     "execution_count": 13,
     "metadata": {},
     "output_type": "execute_result"
    }
   ],
   "source": [
    "np.dot([1, 1, 1], pcaModel.components_.T)"
   ]
  },
  {
   "cell_type": "code",
   "execution_count": 14,
   "metadata": {},
   "outputs": [
    {
     "data": {
      "text/plain": [
       "array([[-0.73605909,  0.64493442, -0.20561279],\n",
       "       [ 0.66693909,  0.63898306, -0.3832661 ],\n",
       "       [ 0.11579841,  0.4192377 ,  0.90046126]])"
      ]
     },
     "execution_count": 14,
     "metadata": {},
     "output_type": "execute_result"
    }
   ],
   "source": [
    "pcaModel.components_.T"
   ]
  },
  {
   "cell_type": "code",
   "execution_count": 15,
   "metadata": {},
   "outputs": [
    {
     "data": {
      "application/vnd.jupyter.widget-view+json": {
       "model_id": "734245b487aa432684137a65c5196f21",
       "version_major": 2,
       "version_minor": 0
      },
      "text/plain": [
       "Image(value=b'\\x89PNG\\r\\n\\x1a\\n\\x00\\x00\\x00\\rIHDR\\x00\\x00\\x01\\x90\\x00\\x00\\x01^\\x08\\x02\\x00\\x00\\x00$?\\xde_\\x00\\…"
      ]
     },
     "metadata": {},
     "output_type": "display_data"
    }
   ],
   "source": [
    "from skimage import transform\n",
    "sand.visualize(transform.resize(sand.cube, (128,)*3))"
   ]
  },
  {
   "cell_type": "code",
   "execution_count": 16,
   "metadata": {},
   "outputs": [
    {
     "data": {
      "text/plain": [
       "array([0.      , 0.015625, 0.046875, 0.0625  , 0.09375 , 0.109375,\n",
       "       0.140625, 0.15625 , 0.1875  , 0.203125, 0.234375, 0.25    ,\n",
       "       0.28125 , 0.296875, 0.328125, 0.34375 , 0.375   , 0.390625,\n",
       "       0.421875, 0.4375  , 0.46875 , 0.515625, 0.53125 , 0.5625  ,\n",
       "       0.578125, 0.609375, 0.625   , 0.65625 , 0.671875, 0.703125,\n",
       "       0.71875 , 0.75    , 0.765625, 0.796875, 0.8125  , 0.84375 ,\n",
       "       0.859375, 0.890625, 0.90625 , 0.9375  , 0.953125, 0.984375,\n",
       "       1.      ])"
      ]
     },
     "execution_count": 16,
     "metadata": {},
     "output_type": "execute_result"
    }
   ],
   "source": [
    "np.unique(transform.resize(sand.cube, (128,)*3).ravel())"
   ]
  },
  {
   "cell_type": "code",
   "execution_count": 17,
   "metadata": {},
   "outputs": [
    {
     "data": {
      "text/plain": [
       "array([0.      , 0.015625, 0.046875, 0.0625  , 0.09375 , 0.109375,\n",
       "       0.140625, 0.15625 , 0.1875  , 0.203125, 0.234375, 0.25    ,\n",
       "       0.28125 , 0.296875, 0.328125, 0.34375 , 0.375   , 0.390625,\n",
       "       0.421875, 0.4375  , 0.46875 , 0.515625, 0.53125 , 0.5625  ,\n",
       "       0.578125, 0.609375, 0.625   , 0.65625 , 0.671875, 0.703125,\n",
       "       0.71875 , 0.75    , 0.765625, 0.796875, 0.8125  , 0.84375 ,\n",
       "       0.859375, 0.890625, 0.90625 , 0.9375  , 0.953125, 0.984375,\n",
       "       1.      ])"
      ]
     },
     "execution_count": 17,
     "metadata": {},
     "output_type": "execute_result"
    }
   ],
   "source": [
    "np.unique(transform.rescale(sand.cube, 2))"
   ]
  },
  {
   "cell_type": "code",
   "execution_count": null,
   "metadata": {},
   "outputs": [],
   "source": []
  }
 ],
 "metadata": {
  "kernelspec": {
   "display_name": "Python 3",
   "language": "python",
   "name": "python3"
  },
  "language_info": {
   "codemirror_mode": {
    "name": "ipython",
    "version": 3
   },
   "file_extension": ".py",
   "mimetype": "text/x-python",
   "name": "python",
   "nbconvert_exporter": "python",
   "pygments_lexer": "ipython3",
   "version": "3.7.9"
  }
 },
 "nbformat": 4,
 "nbformat_minor": 4
}
