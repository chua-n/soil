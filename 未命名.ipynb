{
 "cells": [
  {
   "cell_type": "code",
   "execution_count": 1,
   "metadata": {},
   "outputs": [
    {
     "name": "stdout",
     "output_type": "stream",
     "text": [
      "Set mlab.options.offscreen=True\n",
      "Notebook initialized with ipy backend.\n"
     ]
    }
   ],
   "source": [
    "import numpy as np\n",
    "import matplotlib.pyplot as plt\n",
    "from particle.mayaviOffScreen import mlab\n",
    "from particle.pipeline import Sand\n",
    "mlab.init_notebook()"
   ]
  },
  {
   "cell_type": "code",
   "execution_count": 2,
   "metadata": {},
   "outputs": [
    {
     "name": "stdout",
     "output_type": "stream",
     "text": [
      "(6786, 1, 64, 64, 64) 255\n"
     ]
    }
   ],
   "source": [
    "data = np.load(\"data/liutao/v1/particles.npz\")[\"testSet\"]\n",
    "print(data.shape, data.max())"
   ]
  },
  {
   "cell_type": "raw",
   "metadata": {},
   "source": [
    "seqs = [287, 381, 575, 599, 635, 907, 944, 983, 1148, 1204, 1218, 1340, 1425, 1427, 1502, 1518, 1598, 1652, 1743, 1745]\n",
    "seqs = np.array(seqs) - 1\n",
    "samples = data[seqs, 0]\n",
    "np.save(\"seqs.npy\", seqs)"
   ]
  },
  {
   "cell_type": "code",
   "execution_count": 3,
   "metadata": {
    "scrolled": false
   },
   "outputs": [
    {
     "data": {
      "application/vnd.jupyter.widget-view+json": {
       "model_id": "6e529ebb4c5c49e2abd770680d5ad396",
       "version_major": 2,
       "version_minor": 0
      },
      "text/plain": [
       "Image(value=b'\\x89PNG\\r\\n\\x1a\\n\\x00\\x00\\x00\\rIHDR\\x00\\x00\\x01\\x90\\x00\\x00\\x01^\\x08\\x02\\x00\\x00\\x00$?\\xde_\\x00\\…"
      ]
     },
     "metadata": {},
     "output_type": "display_data"
    }
   ],
   "source": [
    "sand = Sand(data[1217,0])\n",
    "sand.visualize()\n",
    "# mlab.axes()"
   ]
  },
  {
   "cell_type": "code",
   "execution_count": 47,
   "metadata": {},
   "outputs": [
    {
     "data": {
      "application/vnd.jupyter.widget-view+json": {
       "model_id": "6737f1c0772f4a339d92929eac06c9bd",
       "version_major": 2,
       "version_minor": 0
      },
      "text/plain": [
       "Image(value=b'\\x89PNG\\r\\n\\x1a\\n\\x00\\x00\\x00\\rIHDR\\x00\\x00\\x01\\x90\\x00\\x00\\x01^\\x08\\x02\\x00\\x00\\x00$?\\xde_\\x00\\…"
      ]
     },
     "metadata": {},
     "output_type": "display_data"
    }
   ],
   "source": [
    "mlab.close()\n",
    "import torch\n",
    "from skimage import io\n",
    "\n",
    "from particle.pipeline import Sand\n",
    "from particle.nn.tvsnet import getProjections, TVSNet, VaeTVSNet\n",
    "\n",
    "model = VaeTVSNet(\"particle/nn/config/tvsnet-vae-deep.xml\")\n",
    "state_dict = torch.load(\"output/tvsnet/vae/网络加深/dropout0.2, 数据增强/精调-lr0.0001-rotate60/state_dict.pt\",\n",
    "                        map_location=\"cpu\")\n",
    "model.load_state_dict(state_dict)\n",
    "x = torch.empty((3, 64, 64), dtype=torch.uint8)\n",
    "x[0] = torch.from_numpy(io.imread(\"3.png\"))\n",
    "x[1] = torch.from_numpy(io.imread(\"1.png\"))\n",
    "x[2] = torch.from_numpy(io.imread(\"2.png\"))\n",
    "x[x == 255] = 1\n",
    "# x[2] = torch.zeros_like(x[2])\n",
    "model.generate(x)\n",
    "mlab.outline()"
   ]
  },
  {
   "cell_type": "code",
   "execution_count": 37,
   "metadata": {},
   "outputs": [
    {
     "data": {
      "application/vnd.jupyter.widget-view+json": {
       "model_id": "9bef9b2bbcd047c192ac00fbe76188f2",
       "version_major": 2,
       "version_minor": 0
      },
      "text/plain": [
       "Image(value=b'\\x89PNG\\r\\n\\x1a\\n\\x00\\x00\\x00\\rIHDR\\x00\\x00\\x01\\x90\\x00\\x00\\x01^\\x08\\x02\\x00\\x00\\x00$?\\xde_\\x00\\…"
      ]
     },
     "metadata": {},
     "output_type": "display_data"
    }
   ],
   "source": [
    "mlab.close()\n",
    "import torch\n",
    "from skimage import io\n",
    "\n",
    "from particle.pipeline import Sand\n",
    "from particle.nn.tvsnet import getProjections, TVSNet\n",
    "\n",
    "model = TVSNet(\"particle/nn/config/tvsnet.xml\")\n",
    "state_dict = torch.load(\"/home/chuan/soil/output/tvsnet/none/v1/state_dict.pt\",\n",
    "                        map_location=\"cpu\")\n",
    "model.load_state_dict(state_dict)\n",
    "x = torch.empty((3, 64, 64), dtype=torch.uint8)\n",
    "x[0] = torch.from_numpy(io.imread(\"/home/chuan/soil/data/简单几何图形/五角星.png\"))\n",
    "x[1] = torch.from_numpy(io.imread(\"/home/chuan/soil/data/简单几何图形/五角星.png\"))\n",
    "x[2] = torch.from_numpy(io.imread(\"/home/chuan/soil/data/简单几何图形/对钩.png\"))\n",
    "x[x == 255] = 1\n",
    "model.eval()\n",
    "model.generate(x)"
   ]
  },
  {
   "cell_type": "code",
   "execution_count": 10,
   "metadata": {},
   "outputs": [
    {
     "data": {
      "text/plain": [
       "array([[0, 0, 0, ..., 0, 0, 0],\n",
       "       [0, 0, 0, ..., 0, 0, 0],\n",
       "       [0, 0, 0, ..., 0, 0, 0],\n",
       "       ...,\n",
       "       [0, 0, 0, ..., 0, 0, 0],\n",
       "       [0, 0, 0, ..., 0, 0, 0],\n",
       "       [0, 0, 0, ..., 0, 0, 0]])"
      ]
     },
     "execution_count": 10,
     "metadata": {},
     "output_type": "execute_result"
    }
   ],
   "source": [
    "data[286,0].argmax(axis=0)"
   ]
  },
  {
   "cell_type": "code",
   "execution_count": 4,
   "metadata": {},
   "outputs": [
    {
     "data": {
      "text/plain": [
       "(array([37.57261385, 17.31241208, 12.2242338 ]),\n",
       " array([[ 0.73605909, -0.66693909, -0.11579841],\n",
       "        [-0.64493442, -0.63898306, -0.4192377 ],\n",
       "        [-0.20561279, -0.3832661 ,  0.90046126]]))"
      ]
     },
     "execution_count": 4,
     "metadata": {},
     "output_type": "execute_result"
    }
   ],
   "source": [
    "coords = sand.toCoords().T\n",
    "sand.pca()"
   ]
  },
  {
   "cell_type": "code",
   "execution_count": 5,
   "metadata": {},
   "outputs": [
    {
     "data": {
      "text/plain": [
       "(array([37.57261385, 17.31241208, 12.2242338 ]),\n",
       " array([[ 0.73605909, -0.64493442, -0.20561279],\n",
       "        [-0.66693909, -0.63898306, -0.3832661 ],\n",
       "        [-0.11579841, -0.4192377 ,  0.90046126]]))"
      ]
     },
     "execution_count": 5,
     "metadata": {},
     "output_type": "execute_result"
    }
   ],
   "source": [
    "covarMatrix = np.cov(sand.toCoords().T)\n",
    "# np.linalg.eig(square_array) 返回输入方阵的特征值和右特征向量\n",
    "eigenvalues, eigenvectors = np.linalg.eig(covarMatrix)\n",
    "order = np.argsort(eigenvalues)\n",
    "eigenvalues, eigenvectors"
   ]
  },
  {
   "cell_type": "code",
   "execution_count": 6,
   "metadata": {},
   "outputs": [
    {
     "data": {
      "text/plain": [
       "(array([[-0.73605909,  0.66693909,  0.11579841],\n",
       "        [ 0.64493442,  0.63898306,  0.4192377 ],\n",
       "        [-0.20561279, -0.3832661 ,  0.90046126]]),\n",
       " array([37.57261385, 17.31241208, 12.2242338 ]))"
      ]
     },
     "execution_count": 6,
     "metadata": {},
     "output_type": "execute_result"
    }
   ],
   "source": [
    "from sklearn.decomposition import PCA\n",
    "pcaModel = PCA(n_components=3).fit(coords.T)\n",
    "newPoints = pcaModel.transform(coords.T)\n",
    "pcaModel.components_, pcaModel.explained_variance_"
   ]
  },
  {
   "cell_type": "code",
   "execution_count": 7,
   "metadata": {},
   "outputs": [
    {
     "data": {
      "application/vnd.jupyter.widget-view+json": {
       "model_id": "598b8e552bb746dc93cfb0f734e42471",
       "version_major": 2,
       "version_minor": 0
      },
      "text/plain": [
       "Image(value=b'\\x89PNG\\r\\n\\x1a\\n\\x00\\x00\\x00\\rIHDR\\x00\\x00\\x01\\x90\\x00\\x00\\x01^\\x08\\x02\\x00\\x00\\x00$?\\xde_\\x00\\…"
      ]
     },
     "metadata": {},
     "output_type": "display_data"
    }
   ],
   "source": [
    "sand.visualize(sand.poseNormalization())"
   ]
  },
  {
   "cell_type": "code",
   "execution_count": 8,
   "metadata": {},
   "outputs": [
    {
     "data": {
      "text/plain": [
       "True"
      ]
     },
     "execution_count": 8,
     "metadata": {},
     "output_type": "execute_result"
    }
   ],
   "source": [
    "(np.dot(coords.T-coords.T.mean(axis=0), pcaModel.components_.T) == newPoints).all()"
   ]
  },
  {
   "cell_type": "code",
   "execution_count": 9,
   "metadata": {},
   "outputs": [
    {
     "data": {
      "text/plain": [
       "(3371, 3)"
      ]
     },
     "execution_count": 9,
     "metadata": {},
     "output_type": "execute_result"
    }
   ],
   "source": [
    "newPoints.shape"
   ]
  },
  {
   "cell_type": "code",
   "execution_count": 10,
   "metadata": {},
   "outputs": [],
   "source": [
    "newPoints += 32"
   ]
  },
  {
   "cell_type": "code",
   "execution_count": 11,
   "metadata": {},
   "outputs": [
    {
     "data": {
      "application/vnd.jupyter.widget-view+json": {
       "model_id": "c746e71bf6a749a78ce2308253f55f09",
       "version_major": 2,
       "version_minor": 0
      },
      "text/plain": [
       "Image(value=b'\\x89PNG\\r\\n\\x1a\\n\\x00\\x00\\x00\\rIHDR\\x00\\x00\\x01\\x90\\x00\\x00\\x01^\\x08\\x02\\x00\\x00\\x00$?\\xde_\\x00\\…"
      ]
     },
     "metadata": {},
     "output_type": "display_data"
    }
   ],
   "source": [
    "from scipy.interpolate import griddata\n",
    "pointGrid = np.zeros((64, 64, 64), dtype=np.uint8)\n",
    "pointGridTmp = np.where(pointGrid == 0)\n",
    "pointGridTmp = np.asarray(pointGridTmp).T\n",
    "grid = griddata(newPoints, np.ones(len(newPoints)), pointGridTmp, method=\"linear\", fill_value=0)\n",
    "pointGrid[pointGridTmp[:, 0], pointGridTmp[:, 1], pointGridTmp[:, 2]] = grid\n",
    "sand.visualize(pointGrid)"
   ]
  },
  {
   "cell_type": "code",
   "execution_count": 13,
   "metadata": {},
   "outputs": [
    {
     "data": {
      "text/plain": [
       "array([0.04667841, 1.70315518, 0.31158237])"
      ]
     },
     "execution_count": 13,
     "metadata": {},
     "output_type": "execute_result"
    }
   ],
   "source": [
    "np.dot([1, 1, 1], pcaModel.components_.T)"
   ]
  },
  {
   "cell_type": "code",
   "execution_count": 14,
   "metadata": {},
   "outputs": [
    {
     "data": {
      "text/plain": [
       "array([[-0.73605909,  0.64493442, -0.20561279],\n",
       "       [ 0.66693909,  0.63898306, -0.3832661 ],\n",
       "       [ 0.11579841,  0.4192377 ,  0.90046126]])"
      ]
     },
     "execution_count": 14,
     "metadata": {},
     "output_type": "execute_result"
    }
   ],
   "source": [
    "pcaModel.components_.T"
   ]
  },
  {
   "cell_type": "code",
   "execution_count": 15,
   "metadata": {},
   "outputs": [
    {
     "data": {
      "application/vnd.jupyter.widget-view+json": {
       "model_id": "734245b487aa432684137a65c5196f21",
       "version_major": 2,
       "version_minor": 0
      },
      "text/plain": [
       "Image(value=b'\\x89PNG\\r\\n\\x1a\\n\\x00\\x00\\x00\\rIHDR\\x00\\x00\\x01\\x90\\x00\\x00\\x01^\\x08\\x02\\x00\\x00\\x00$?\\xde_\\x00\\…"
      ]
     },
     "metadata": {},
     "output_type": "display_data"
    }
   ],
   "source": [
    "from skimage import transform\n",
    "sand.visualize(transform.resize(sand.cube, (128,)*3))"
   ]
  },
  {
   "cell_type": "code",
   "execution_count": 16,
   "metadata": {},
   "outputs": [
    {
     "data": {
      "text/plain": [
       "array([0.      , 0.015625, 0.046875, 0.0625  , 0.09375 , 0.109375,\n",
       "       0.140625, 0.15625 , 0.1875  , 0.203125, 0.234375, 0.25    ,\n",
       "       0.28125 , 0.296875, 0.328125, 0.34375 , 0.375   , 0.390625,\n",
       "       0.421875, 0.4375  , 0.46875 , 0.515625, 0.53125 , 0.5625  ,\n",
       "       0.578125, 0.609375, 0.625   , 0.65625 , 0.671875, 0.703125,\n",
       "       0.71875 , 0.75    , 0.765625, 0.796875, 0.8125  , 0.84375 ,\n",
       "       0.859375, 0.890625, 0.90625 , 0.9375  , 0.953125, 0.984375,\n",
       "       1.      ])"
      ]
     },
     "execution_count": 16,
     "metadata": {},
     "output_type": "execute_result"
    }
   ],
   "source": [
    "np.unique(transform.resize(sand.cube, (128,)*3).ravel())"
   ]
  },
  {
   "cell_type": "code",
   "execution_count": 17,
   "metadata": {},
   "outputs": [
    {
     "data": {
      "text/plain": [
       "array([0.      , 0.015625, 0.046875, 0.0625  , 0.09375 , 0.109375,\n",
       "       0.140625, 0.15625 , 0.1875  , 0.203125, 0.234375, 0.25    ,\n",
       "       0.28125 , 0.296875, 0.328125, 0.34375 , 0.375   , 0.390625,\n",
       "       0.421875, 0.4375  , 0.46875 , 0.515625, 0.53125 , 0.5625  ,\n",
       "       0.578125, 0.609375, 0.625   , 0.65625 , 0.671875, 0.703125,\n",
       "       0.71875 , 0.75    , 0.765625, 0.796875, 0.8125  , 0.84375 ,\n",
       "       0.859375, 0.890625, 0.90625 , 0.9375  , 0.953125, 0.984375,\n",
       "       1.      ])"
      ]
     },
     "execution_count": 17,
     "metadata": {},
     "output_type": "execute_result"
    }
   ],
   "source": [
    "np.unique(transform.rescale(sand.cube, 2))"
   ]
  },
  {
   "cell_type": "code",
   "execution_count": 1,
   "metadata": {},
   "outputs": [],
   "source": [
    "import numpy as np\n",
    "from skimage import io, filters, img_as_ubyte\n",
    "from scipy import ndimage as ndi\n",
    "import matplotlib.pyplot as plt\n",
    "import napari\n",
    "\n",
    "from particle.pipeline import SandHeap"
   ]
  },
  {
   "cell_type": "code",
   "execution_count": 3,
   "metadata": {},
   "outputs": [
    {
     "name": "stdout",
     "output_type": "stream",
     "text": [
      "Function `_loadData` runs for 0h 0min 15.0s\n",
      "(500, 1766, 1766) bool data-loaded\n"
     ]
    }
   ],
   "source": [
    "sandHeap = SandHeap(source=\"./data/liutao/v1/binary-open.npy\",\n",
    "                   se=ndi.generate_binary_structure(rank=3, connectivity=2), \n",
    "                   connectivity=1,\n",
    "                   persistencePath='./data/liutao/',\n",
    "                   cubeSize=64)\n",
    "print(sandHeap.data.shape, sandHeap.data.dtype, sandHeap.status)"
   ]
  },
  {
   "cell_type": "code",
   "execution_count": 33,
   "metadata": {},
   "outputs": [],
   "source": [
    "x = np.ones((2, 3), dtype=bool)"
   ]
  },
  {
   "cell_type": "code",
   "execution_count": 34,
   "metadata": {},
   "outputs": [],
   "source": [
    "y = np.array([[0, 255, 255], [0, 0, 0]], dtype=np.uint8)"
   ]
  },
  {
   "cell_type": "code",
   "execution_count": 35,
   "metadata": {},
   "outputs": [
    {
     "data": {
      "text/plain": [
       "(array([[ True,  True,  True],\n",
       "        [ True,  True,  True]]),\n",
       " array([[  0, 255, 255],\n",
       "        [  0,   0,   0]], dtype=uint8))"
      ]
     },
     "execution_count": 35,
     "metadata": {},
     "output_type": "execute_result"
    }
   ],
   "source": [
    "x, y"
   ]
  },
  {
   "cell_type": "code",
   "execution_count": 36,
   "metadata": {},
   "outputs": [
    {
     "data": {
      "text/plain": [
       "array([[1, 0, 0],\n",
       "       [1, 1, 1]], dtype=uint8)"
      ]
     },
     "execution_count": 36,
     "metadata": {},
     "output_type": "execute_result"
    }
   ],
   "source": [
    "x + y"
   ]
  },
  {
   "cell_type": "code",
   "execution_count": 37,
   "metadata": {},
   "outputs": [
    {
     "data": {
      "text/plain": [
       "dtype('uint8')"
      ]
     },
     "execution_count": 37,
     "metadata": {},
     "output_type": "execute_result"
    }
   ],
   "source": [
    "finalSegmented = np.load(\"./data/liutao/v1/final-segmented.npy\")\n",
    "finalSegmented.dtype"
   ]
  },
  {
   "cell_type": "code",
   "execution_count": 38,
   "metadata": {},
   "outputs": [
    {
     "data": {
      "text/plain": [
       "1"
      ]
     },
     "execution_count": 38,
     "metadata": {},
     "output_type": "execute_result"
    }
   ],
   "source": [
    "finalSegmented.max()"
   ]
  },
  {
   "cell_type": "code",
   "execution_count": null,
   "metadata": {},
   "outputs": [],
   "source": []
  }
 ],
 "metadata": {
  "kernelspec": {
   "display_name": "Python 3",
   "language": "python",
   "name": "python3"
  },
  "language_info": {
   "codemirror_mode": {
    "name": "ipython",
    "version": 3
   },
   "file_extension": ".py",
   "mimetype": "text/x-python",
   "name": "python",
   "nbconvert_exporter": "python",
   "pygments_lexer": "ipython3",
   "version": "3.7.9"
  }
 },
 "nbformat": 4,
 "nbformat_minor": 4
}
