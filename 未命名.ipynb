{
 "cells": [
  {
   "cell_type": "code",
   "execution_count": 1,
   "metadata": {},
   "outputs": [],
   "source": [
    "import numpy as np\n",
    "from skimage import io, color, filters, measure, img_as_ubyte\n",
    "from scipy import ndimage as ndi\n",
    "import matplotlib.pyplot as plt\n",
    "import napari\n",
    "\n",
    "from particle.pipeline import SandHeap"
   ]
  },
  {
   "cell_type": "code",
   "execution_count": 2,
   "metadata": {},
   "outputs": [
    {
     "name": "stdout",
     "output_type": "stream",
     "text": [
      "40809\n",
      "CPU times: user 1.17 s, sys: 4.44 s, total: 5.61 s\n",
      "Wall time: 40.5 s\n"
     ]
    }
   ],
   "source": [
    "%%time\n",
    "removeBounday = np.load('./data/liutao/v1/removeBoundary.npy')\n",
    "print(removeBounday.max()) # 这个不数不是里边颗粒的数量"
   ]
  },
  {
   "cell_type": "raw",
   "metadata": {},
   "source": [
    "with napari.gui_qt():\n",
    "    viewer = napari.view_labels(finalLabeled-removeBounday)\n",
    "    viewer.add_labels(finalLabeled)\n",
    "    viewer.add_labels(removeBounday)    "
   ]
  },
  {
   "cell_type": "code",
   "execution_count": 4,
   "metadata": {},
   "outputs": [],
   "source": [
    "labels = np.load('./data/liutao/v1/particles.npz')['labels']\n",
    "labels = set(labels)"
   ]
  },
  {
   "cell_type": "code",
   "execution_count": 5,
   "metadata": {},
   "outputs": [
    {
     "name": "stderr",
     "output_type": "stream",
     "text": [
      "100%|██████████| 36493/36493 [00:02<00:00, 15594.52it/s]\n"
     ]
    }
   ],
   "source": [
    "from tqdm import tqdm\n",
    "\n",
    "regionprops = measure.regionprops(removeBounday)\n",
    "for regionprop in tqdm(regionprops):\n",
    "    if regionprop.label in labels:\n",
    "        removeBounday[regionprop.slice] = 0"
   ]
  },
  {
   "cell_type": "raw",
   "metadata": {},
   "source": [
    "with napari.gui_qt():\n",
    "    viewer = napari.view_labels(removeBounday)"
   ]
  },
  {
   "cell_type": "code",
   "execution_count": 7,
   "metadata": {},
   "outputs": [],
   "source": [
    "from particle.pipeline import Sand\n",
    "from mayavi import mlab\n",
    "Sand(removeBounday).visualize(voxel=True, glyph=\"point\")\n",
    "mlab.show()"
   ]
  },
  {
   "cell_type": "code",
   "execution_count": null,
   "metadata": {},
   "outputs": [],
   "source": []
  }
 ],
 "metadata": {
  "kernelspec": {
   "display_name": "Python 3",
   "language": "python",
   "name": "python3"
  },
  "language_info": {
   "codemirror_mode": {
    "name": "ipython",
    "version": 3
   },
   "file_extension": ".py",
   "mimetype": "text/x-python",
   "name": "python",
   "nbconvert_exporter": "python",
   "pygments_lexer": "ipython3",
   "version": "3.7.9"
  }
 },
 "nbformat": 4,
 "nbformat_minor": 4
}
